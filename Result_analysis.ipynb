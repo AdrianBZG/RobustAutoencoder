{
 "cells": [
  {
   "cell_type": "code",
   "execution_count": 1,
   "metadata": {},
   "outputs": [],
   "source": [
    "import numpy as np\n",
    "from scipy.misc import imread as im\n",
    "import matplotlib.pyplot as plt\n",
    "from sklearn.ensemble import RandomForestClassifier as RFC\n",
    "from sklearn.metrics import confusion_matrix as CM\n",
    "from sklearn.model_selection import train_test_split\n",
    "from sklearn.metrics import f1_score\n",
    "from sklearn.metrics import recall_score as recall\n",
    "from sklearn.metrics import precision_score as precision\n",
    "import os\n",
    "from collections import Counter\n",
    "%matplotlib inline"
   ]
  },
  {
   "cell_type": "markdown",
   "metadata": {},
   "source": [
    "# Outlier Detection"
   ]
  },
  {
   "cell_type": "code",
   "execution_count": 21,
   "metadata": {},
   "outputs": [
    {
     "name": "stdout",
     "output_type": "stream",
     "text": [
      "/home/czhou2/remoteJupyter/RobustAutoencoder/OutlierDetectionResult\n",
      "[0.001, 0.0012, 0.0014, 0.0016, 0.0018, 0.002, 0.0022]\n"
     ]
    }
   ],
   "source": [
    "## edit this to the result folder\n",
    "folder = \"/\".join([os.getcwd(),\"OutlierDetectionResult\"])\n",
    "print folder\n",
    "lam_list = sorted(map(lambda x: float(x[3:]), filter(lambda x: 'lam' in x, os.listdir(folder))))\n",
    "print lam_list"
   ]
  },
  {
   "cell_type": "code",
   "execution_count": 22,
   "metadata": {},
   "outputs": [
    {
     "name": "stdout",
     "output_type": "stream",
     "text": [
      "number of majority: 4859\n",
      "number of outlier: 265\n",
      "outlier ratio: 0.0545379707759\n"
     ]
    }
   ],
   "source": [
    "y = np.load(r\"./data/y.npk\")\n",
    "stat = Counter(y)\n",
    "print \"number of majority:\", stat[4]\n",
    "print \"number of outlier:\", len(y) - stat[4]\n",
    "print \"outlier ratio:\", (len(y) - stat[4])/float(stat[4])"
   ]
  },
  {
   "cell_type": "code",
   "execution_count": 23,
   "metadata": {},
   "outputs": [
    {
     "name": "stdout",
     "output_type": "stream",
     "text": [
      "Counter({'m': 4859, 'o': 265})\n"
     ]
    }
   ],
   "source": [
    "def binary_error(value):\n",
    "    if value == 0.0:\n",
    "        return \"m\" # 'majority'\n",
    "    else:\n",
    "        return \"o\" #'outlier'\n",
    "    \n",
    "def binary_y(value):\n",
    "    if value == 4:\n",
    "        return \"m\"\n",
    "    else:\n",
    "        return \"o\"\n",
    "\n",
    "bi_y = map(binary_y,y)\n",
    "print Counter(bi_y)"
   ]
  },
  {
   "cell_type": "code",
   "execution_count": 24,
   "metadata": {},
   "outputs": [
    {
     "name": "stdout",
     "output_type": "stream",
     "text": [
      "lambda: 0.001\n",
      "precision 0.0517477055263\n",
      "recall 1.0\n",
      "f1 0.0984032677312\n",
      "------------\n",
      "lambda: 0.0012\n",
      "precision 0.0529576338929\n",
      "recall 1.0\n",
      "f1 0.100588346935\n",
      "------------\n",
      "lambda: 0.0014\n",
      "precision 0.0582456140351\n",
      "recall 0.939622641509\n",
      "f1 0.109691629956\n",
      "------------\n",
      "lambda: 0.0016\n",
      "precision 0.0699617124956\n",
      "recall 0.758490566038\n",
      "f1 0.12810707457\n",
      "------------\n",
      "lambda: 0.0018\n",
      "precision 0.089323098395\n",
      "recall 0.483018867925\n",
      "f1 0.150765606596\n",
      "------------\n",
      "lambda: 0.002\n",
      "precision 0.153526970954\n",
      "recall 0.279245283019\n",
      "f1 0.19812583668\n",
      "------------\n"
     ]
    },
    {
     "ename": "IOError",
     "evalue": "[Errno 2] No such file or directory: '/home/czhou2/remoteJupyter/RobustAutoencoder/OutlierDetectionResult/lam0.0022/l21S.npk'",
     "output_type": "error",
     "traceback": [
      "\u001b[0;31m---------------------------------------------------------------------------\u001b[0m",
      "\u001b[0;31mIOError\u001b[0m                                   Traceback (most recent call last)",
      "\u001b[0;32m<ipython-input-24-a18690fde0c2>\u001b[0m in \u001b[0;36m<module>\u001b[0;34m()\u001b[0m\n\u001b[1;32m      4\u001b[0m \u001b[0mf1s\u001b[0m \u001b[0;34m=\u001b[0m \u001b[0;34m[\u001b[0m\u001b[0;34m]\u001b[0m\u001b[0;34m\u001b[0m\u001b[0m\n\u001b[1;32m      5\u001b[0m \u001b[0;32mfor\u001b[0m \u001b[0mi\u001b[0m\u001b[0;34m,\u001b[0m\u001b[0mlam\u001b[0m \u001b[0;32min\u001b[0m \u001b[0menumerate\u001b[0m\u001b[0;34m(\u001b[0m\u001b[0mlam_list\u001b[0m\u001b[0;34m)\u001b[0m\u001b[0;34m:\u001b[0m\u001b[0;34m\u001b[0m\u001b[0m\n\u001b[0;32m----> 6\u001b[0;31m     \u001b[0mS\u001b[0m \u001b[0;34m=\u001b[0m \u001b[0mnp\u001b[0m\u001b[0;34m.\u001b[0m\u001b[0mload\u001b[0m\u001b[0;34m(\u001b[0m\u001b[0mfolder\u001b[0m \u001b[0;34m+\u001b[0m \u001b[0;34m\"/\"\u001b[0m \u001b[0;34m+\u001b[0m \u001b[0;34m\"lam\"\u001b[0m \u001b[0;34m+\u001b[0m \u001b[0mstr\u001b[0m\u001b[0;34m(\u001b[0m\u001b[0mlam\u001b[0m\u001b[0;34m)\u001b[0m \u001b[0;34m+\u001b[0m \u001b[0;34m\"/\"\u001b[0m \u001b[0;34m+\u001b[0m \u001b[0;34mr\"l21S.npk\"\u001b[0m\u001b[0;34m)\u001b[0m\u001b[0;34m\u001b[0m\u001b[0m\n\u001b[0m\u001b[1;32m      7\u001b[0m     \u001b[0mpredictions\u001b[0m \u001b[0;34m=\u001b[0m \u001b[0mmap\u001b[0m\u001b[0;34m(\u001b[0m\u001b[0mbinary_error\u001b[0m\u001b[0;34m,\u001b[0m\u001b[0mnp\u001b[0m\u001b[0;34m.\u001b[0m\u001b[0mlinalg\u001b[0m\u001b[0;34m.\u001b[0m\u001b[0mnorm\u001b[0m\u001b[0;34m(\u001b[0m\u001b[0mS\u001b[0m\u001b[0;34m,\u001b[0m\u001b[0maxis\u001b[0m \u001b[0;34m=\u001b[0m \u001b[0;36m1\u001b[0m\u001b[0;34m)\u001b[0m\u001b[0;34m)\u001b[0m\u001b[0;34m\u001b[0m\u001b[0m\n\u001b[1;32m      8\u001b[0m     \u001b[0;32mprint\u001b[0m \u001b[0;34m\"lambda:\"\u001b[0m\u001b[0;34m,\u001b[0m \u001b[0mlam\u001b[0m\u001b[0;34m\u001b[0m\u001b[0m\n",
      "\u001b[0;32m/home/czhou2/.local/lib/python2.7/site-packages/numpy/lib/npyio.pyc\u001b[0m in \u001b[0;36mload\u001b[0;34m(file, mmap_mode, allow_pickle, fix_imports, encoding)\u001b[0m\n\u001b[1;32m    368\u001b[0m     \u001b[0mown_fid\u001b[0m \u001b[0;34m=\u001b[0m \u001b[0mFalse\u001b[0m\u001b[0;34m\u001b[0m\u001b[0m\n\u001b[1;32m    369\u001b[0m     \u001b[0;32mif\u001b[0m \u001b[0misinstance\u001b[0m\u001b[0;34m(\u001b[0m\u001b[0mfile\u001b[0m\u001b[0;34m,\u001b[0m \u001b[0mbasestring\u001b[0m\u001b[0;34m)\u001b[0m\u001b[0;34m:\u001b[0m\u001b[0;34m\u001b[0m\u001b[0m\n\u001b[0;32m--> 370\u001b[0;31m         \u001b[0mfid\u001b[0m \u001b[0;34m=\u001b[0m \u001b[0mopen\u001b[0m\u001b[0;34m(\u001b[0m\u001b[0mfile\u001b[0m\u001b[0;34m,\u001b[0m \u001b[0;34m\"rb\"\u001b[0m\u001b[0;34m)\u001b[0m\u001b[0;34m\u001b[0m\u001b[0m\n\u001b[0m\u001b[1;32m    371\u001b[0m         \u001b[0mown_fid\u001b[0m \u001b[0;34m=\u001b[0m \u001b[0mTrue\u001b[0m\u001b[0;34m\u001b[0m\u001b[0m\n\u001b[1;32m    372\u001b[0m     \u001b[0;32melif\u001b[0m \u001b[0mis_pathlib_path\u001b[0m\u001b[0;34m(\u001b[0m\u001b[0mfile\u001b[0m\u001b[0;34m)\u001b[0m\u001b[0;34m:\u001b[0m\u001b[0;34m\u001b[0m\u001b[0m\n",
      "\u001b[0;31mIOError\u001b[0m: [Errno 2] No such file or directory: '/home/czhou2/remoteJupyter/RobustAutoencoder/OutlierDetectionResult/lam0.0022/l21S.npk'"
     ]
    }
   ],
   "source": [
    "precisions=[]\n",
    "lams=[]\n",
    "recalls=[]\n",
    "f1s = []\n",
    "for i,lam in enumerate(lam_list):\n",
    "    S = np.load(folder + \"/\" + \"lam\" + str(lam) + \"/\" + r\"l21S.npk\")    \n",
    "    predictions = map(binary_error,np.linalg.norm(S,axis = 1))\n",
    "    print \"lambda:\", lam\n",
    "    print \"precision\",precision(bi_y,predictions,labels=[\"o\",\"m\"],pos_label=\"o\")\n",
    "    print \"recall\",recall(bi_y,predictions,labels=[\"o\",\"m\"],pos_label=\"o\")\n",
    "    print \"f1\",f1_score(bi_y,predictions,labels=[\"o\",\"m\"],pos_label=\"o\")\n",
    "    lams.append(lam)\n",
    "    precisions.append(precision(bi_y,predictions,labels=[\"o\",\"m\"],pos_label=\"o\"))\n",
    "    recalls.append(recall(bi_y,predictions,labels=[\"o\",\"m\"],pos_label=\"o\"))\n",
    "    f1s.append(f1_score(bi_y,predictions,labels=[\"o\",\"m\"],pos_label=\"o\"))\n",
    "#     print CM(bi_y,predictions)\n",
    "    print \"------------\"\n",
    "print len(lams),len(recalls),len(f1s),len(precisions)"
   ]
  },
  {
   "cell_type": "code",
   "execution_count": 25,
   "metadata": {},
   "outputs": [
    {
     "data": {
      "image/png": "[encoded data removed]",
      "text/plain": [
       "<matplotlib.figure.Figure at 0x7f96ec7e3490>"
      ]
     },
     "metadata": {},
     "output_type": "display_data"
    }
   ],
   "source": [
    "plt.figure(figsize=(6.5,4.5))\n",
    "plt.xlabel(\"Lambdas\")\n",
    "plt.ylabel(\"Values\")\n",
    "plt.plot(range(len(lams)),f1s,color='r',label=\"f1\")\n",
    "plt.plot(range(len(lams)),precisions,color=\"b\",label=\"precision\")\n",
    "plt.plot(range(len(lams)),recalls,color=\"g\",label=\"recall\")\n",
    "plt.legend([\"f1\",\"precision\",\"recall\"],loc='best')\n",
    "plt.xticks(range(len(lams)), lam_list,rotation='vertical')\n",
    "plt.title(\"Anomalies Detection of $l_{2,1}$ Robust Auto-encoder\")\n",
    "plt.show()"
   ]
  },
  {
   "cell_type": "markdown",
   "metadata": {},
   "source": [
    "## Plot the S and L"
   ]
  },
  {
   "cell_type": "code",
   "execution_count": null,
   "metadata": {},
   "outputs": [],
   "source": [
    "%matplotlib inline\n",
    "ncol = 3\n",
    "folder_cor = folder + \"/\" ##+corruption_level_folder[-2]\n",
    "fig,ax = plt.subplots(nrows=len(lam_list),ncols=ncol)\n",
    "X = im(folder_cor + \"/\" +r\"X.png\")\n",
    "for index in range(len(lam_list)):\n",
    "    l21R = im(folder_cor + \"/\" + \"lam\" +lam_list[index]+ \"/\" + r\"l21R.png\")\n",
    "    l21S = im(folder_cor + \"/\" + \"lam\" +lam_list[index] + \"/\" + r\"l21S.png\")\n",
    "    \n",
    "    ax[index][0].imshow(l21R,cmap = \"gray\")\n",
    "    ax[index][1].imshow(l21S,cmap = \"gray\")\n",
    "    ax[index][2].imshow(X,cmap = \"gray\")\n",
    "    \n",
    "    ax[index][0].set_title(lam_list[index]+r\" L21 R\")\n",
    "    ax[index][1].set_title(lam_list[index]+r\" L21 S\")\n",
    "    ax[index][2].set_title(\"X\")\n",
    "    ax[index][0].get_xaxis().set_visible(False)\n",
    "    ax[index][0].get_yaxis().set_visible(False)\n",
    "    ax[index][1].get_xaxis().set_visible(False)\n",
    "    ax[index][1].get_yaxis().set_visible(False)\n",
    "    ax[index][2].get_xaxis().set_visible(False)\n",
    "    ax[index][2].get_yaxis().set_visible(False)\n",
    "    \n",
    "fig.set_size_inches(16,(len(lam_list))*3.5)\n",
    "#fig.savefig(r\"C:\\Users\\zc\\Desktop\\Result\\Comparing.png\",bbox_inches='tight')\n",
    "plt.show()"
   ]
  },
  {
   "cell_type": "markdown",
   "metadata": {
    "collapsed": true
   },
   "source": [
    "# Benchmark Methods"
   ]
  },
  {
   "cell_type": "markdown",
   "metadata": {},
   "source": [
    "## Isolation Forest"
   ]
  },
  {
   "cell_type": "code",
   "execution_count": 7,
   "metadata": {},
   "outputs": [
    {
     "name": "stdout",
     "output_type": "stream",
     "text": [
      "(5124, 784)\n"
     ]
    }
   ],
   "source": [
    "from sklearn.covariance import EllipticEnvelope\n",
    "from sklearn.ensemble import IsolationForest\n",
    "x = np.load(r\"./data/data.npk\")\n",
    "print x.shape\n",
    "def binary_y(value):\n",
    "    if value == 4:\n",
    "        return 1\n",
    "    else:\n",
    "        return -1\n",
    "bi_y = map(binary_y,y)"
   ]
  },
  {
   "cell_type": "code",
   "execution_count": 8,
   "metadata": {},
   "outputs": [
    {
     "name": "stdout",
     "output_type": "stream",
     "text": [
      "fraction 0.01\n",
      "precision 0.557692307692\n",
      "recall 0.109433962264\n",
      "f1 0.182965299685\n",
      "------------\n",
      "fraction 0.05\n",
      "precision 0.330739299611\n",
      "recall 0.320754716981\n",
      "f1 0.325670498084\n",
      "------------\n",
      "fraction 0.09\n",
      "precision 0.287878787879\n",
      "recall 0.501886792453\n",
      "f1 0.365887207703\n",
      "------------\n",
      "fraction 0.13\n",
      "precision 0.234234234234\n",
      "recall 0.588679245283\n",
      "f1 0.335123523093\n",
      "------------\n",
      "fraction 0.17\n",
      "precision 0.195177956372\n",
      "recall 0.641509433962\n",
      "f1 0.299295774648\n",
      "------------\n",
      "fraction 0.21\n",
      "precision 0.166356877323\n",
      "recall 0.675471698113\n",
      "f1 0.266964951529\n",
      "------------\n",
      "fraction 0.25\n",
      "precision 0.154566744731\n",
      "recall 0.747169811321\n",
      "f1 0.256144890039\n",
      "------------\n",
      "fraction 0.29\n",
      "precision 0.14064602961\n",
      "recall 0.788679245283\n",
      "f1 0.238720731011\n",
      "------------\n",
      "fraction 0.33\n",
      "precision 0.13542282673\n",
      "recall 0.864150943396\n",
      "f1 0.234151329243\n",
      "------------\n",
      "fraction 0.37\n",
      "precision 0.120253164557\n",
      "recall 0.860377358491\n",
      "f1 0.211013419713\n",
      "------------\n",
      "fraction 0.41\n",
      "precision 0.110423607806\n",
      "recall 0.875471698113\n",
      "f1 0.196111580727\n",
      "------------\n",
      "fraction 0.45\n",
      "precision 0.103642671292\n",
      "recall 0.901886792453\n",
      "f1 0.185919875535\n",
      "------------\n",
      "fraction 0.49\n",
      "precision 0.0975706889685\n",
      "recall 0.924528301887\n",
      "f1 0.1765129683\n",
      "------------\n",
      "fraction 0.53\n",
      "precision 0.0938880706922\n",
      "recall 0.962264150943\n",
      "f1 0.171083529017\n",
      "------------\n",
      "fraction 0.57\n",
      "precision 0.0866141732283\n",
      "recall 0.954716981132\n",
      "f1 0.158819836786\n",
      "------------\n",
      "fraction 0.61\n",
      "precision 0.0822136916187\n",
      "recall 0.969811320755\n",
      "f1 0.151577705692\n",
      "------------\n",
      "fraction 0.65\n",
      "precision 0.0780780780781\n",
      "recall 0.981132075472\n",
      "f1 0.144645340751\n",
      "------------\n",
      "fraction 0.69\n",
      "precision 0.0738330975955\n",
      "recall 0.984905660377\n",
      "f1 0.137368421053\n",
      "------------\n"
     ]
    }
   ],
   "source": [
    "fractions = np.arange(0.01,0.7,0.04)\n",
    "y_preds = []\n",
    "precisions=[]\n",
    "fraction_list=[]\n",
    "recalls=[]\n",
    "f1s = []\n",
    "for fraction in fractions:\n",
    "    #model = EllipticEnvelope(contamination = fraction)\n",
    "    model = IsolationForest(n_estimators=100,contamination=fraction,n_jobs=2)\n",
    "    model.fit(x)\n",
    "    y_pred = model.predict(x)\n",
    "    y_preds.append(y_pred)\n",
    "    \n",
    "    p = precision(bi_y,y_pred,labels=[1,-1],pos_label=-1)\n",
    "    r = recall(bi_y,y_pred,labels=[1,-1],pos_label=-1)\n",
    "    f1 = f1_score(bi_y,y_pred,labels=[1,-1],pos_label=-1)\n",
    "    print \"fraction\",fraction\n",
    "    print \"precision\", p\n",
    "    print \"recall\", r\n",
    "    print \"f1\", f1\n",
    "    print \"------------\"\n",
    "    precisions.append(p)\n",
    "    recalls.append(r)\n",
    "    f1s.append(f1)"
   ]
  },
  {
   "cell_type": "code",
   "execution_count": 12,
   "metadata": {
    "scrolled": false
   },
   "outputs": [
    {
     "name": "stdout",
     "output_type": "stream",
     "text": [
      "Max F1-score 0.365887207703\n"
     ]
    },
    {
     "data": {
      "image/png": "[encoded data removed]",
      "text/plain": [
       "<matplotlib.figure.Figure at 0x7f96ec53ff10>"
      ]
     },
     "metadata": {},
     "output_type": "display_data"
    }
   ],
   "source": [
    "print \"Max F1-score\", np.max(f1s)\n",
    "plt.close('all')\n",
    "plt.figure(figsize=(6.5,4.5))\n",
    "plt.xlabel(\"fractions\")\n",
    "plt.ylabel(\"Values\")\n",
    "plt.plot(range(len(fractions)),f1s,color='r',label=\"f1\")\n",
    "plt.plot(range(len(fractions)),precisions,color=\"b\",label=\"precision\")\n",
    "plt.plot(range(len(fractions)),recalls,color=\"g\",label=\"recall\")\n",
    "plt.legend([\"f1\",\"precision\",\"recall\"],loc='best')\n",
    "plt.xticks(range(len(fractions)), fractions,rotation='vertical')\n",
    "plt.title(\"Anomalies Detection of Isolation Forest\")\n",
    "plt.show()"
   ]
  },
  {
   "cell_type": "markdown",
   "metadata": {
    "collapsed": true
   },
   "source": [
    "## OneClass SVM"
   ]
  },
  {
   "cell_type": "code",
   "execution_count": 13,
   "metadata": {},
   "outputs": [],
   "source": [
    "from sklearn.svm import OneClassSVM"
   ]
  },
  {
   "cell_type": "code",
   "execution_count": 14,
   "metadata": {},
   "outputs": [
    {
     "name": "stdout",
     "output_type": "stream",
     "text": [
      "fraction 0.01\n",
      "precision 0.5625\n",
      "recall 0.101886792453\n",
      "f1 0.172523961661\n",
      "------------\n",
      "fraction 0.06\n",
      "precision 0.419141914191\n",
      "recall 0.479245283019\n",
      "f1 0.447183098592\n",
      "------------\n",
      "fraction 0.11\n",
      "precision 0.3074204947\n",
      "recall 0.656603773585\n",
      "f1 0.418772563177\n",
      "------------\n",
      "fraction 0.16\n",
      "precision 0.250608272506\n",
      "recall 0.777358490566\n",
      "f1 0.379024839006\n",
      "------------\n",
      "fraction 0.21\n",
      "precision 0.211502782931\n",
      "recall 0.860377358491\n",
      "f1 0.339538346984\n",
      "------------\n",
      "fraction 0.26\n",
      "precision 0.178544636159\n",
      "recall 0.898113207547\n",
      "f1 0.297872340426\n",
      "------------\n",
      "fraction 0.31\n",
      "precision 0.152926368785\n",
      "recall 0.916981132075\n",
      "f1 0.26213592233\n",
      "------------\n",
      "fraction 0.36\n",
      "precision 0.13557483731\n",
      "recall 0.943396226415\n",
      "f1 0.237079184448\n",
      "------------\n",
      "fraction 0.41\n",
      "precision 0.121197718631\n",
      "recall 0.962264150943\n",
      "f1 0.21528070916\n",
      "------------\n",
      "fraction 0.46\n",
      "precision 0.108566581849\n",
      "recall 0.966037735849\n",
      "f1 0.195196340069\n",
      "------------\n",
      "fraction 0.51\n",
      "precision 0.0983167559296\n",
      "recall 0.969811320755\n",
      "f1 0.178534213268\n",
      "------------\n",
      "fraction 0.56\n",
      "precision 0.0898954703833\n",
      "recall 0.97358490566\n",
      "f1 0.164593301435\n",
      "------------\n",
      "fraction 0.61\n",
      "precision 0.0825864276569\n",
      "recall 0.97358490566\n",
      "f1 0.152257303039\n",
      "------------\n",
      "fraction 0.66\n",
      "precision 0.0763313609467\n",
      "recall 0.97358490566\n",
      "f1 0.141563786008\n",
      "------------\n"
     ]
    }
   ],
   "source": [
    "fractions = np.arange(0.01,0.7,0.05)\n",
    "y_preds = []\n",
    "recalls=[]\n",
    "f1s = []\n",
    "precisions=[]\n",
    "for fraction in fractions:\n",
    "    model = OneClassSVM(nu=fraction)\n",
    "    model.fit(x)\n",
    "    y_pred = model.predict(x)\n",
    "    y_preds.append(y_pred)\n",
    "    p = precision(bi_y,y_pred,labels=[1,-1],pos_label=-1)\n",
    "    r = recall(bi_y,y_pred,labels=[1,-1],pos_label=-1)\n",
    "    f1 = f1_score(bi_y,y_pred,labels=[1,-1],pos_label=-1)\n",
    "    print \"fraction\",fraction\n",
    "    print \"precision\", p\n",
    "    print \"recall\", r\n",
    "    print \"f1\", f1\n",
    "    print \"------------\"\n",
    "    precisions.append(p)\n",
    "    recalls.append(r)\n",
    "    f1s.append(f1)"
   ]
  },
  {
   "cell_type": "code",
   "execution_count": 15,
   "metadata": {},
   "outputs": [
    {
     "data": {
      "image/png": "[encoded data removed]",
      "text/plain": [
       "<matplotlib.figure.Figure at 0x7f96ec5d6610>"
      ]
     },
     "metadata": {},
     "output_type": "display_data"
    }
   ],
   "source": [
    "print \"Max F1-score\", np.max(f1s)\n",
    "plt.figure(figsize=(6.5,4.5))\n",
    "plt.xlabel(\"Fractions\")\n",
    "plt.ylabel(\"Scores\")\n",
    "plt.plot(range(len(fractions)),f1s,color='r',label=\"f1\")\n",
    "plt.plot(range(len(fractions)),precisions,color=\"b\",label=\"precision\")\n",
    "plt.plot(range(len(fractions)),recalls,color=\"g\",label=\"recall\")\n",
    "plt.legend([\"f1\",\"precision\",\"recall\"],loc='best')\n",
    "plt.xticks(range(len(fractions)), fractions,rotation='vertical')\n",
    "plt.title(\"OneClassSVM\")\n",
    "plt.show()"
   ]
  },
  {
   "cell_type": "code",
   "execution_count": null,
   "metadata": {},
   "outputs": [],
   "source": []
  }
 ],
 "metadata": {
  "anaconda-cloud": {},
  "kernelspec": {
   "display_name": "Python 2",
   "language": "python",
   "name": "python2"
  },
  "language_info": {
   "codemirror_mode": {
    "name": "ipython",
    "version": 2
   },
   "file_extension": ".py",
   "mimetype": "text/x-python",
   "name": "python",
   "nbconvert_exporter": "python",
   "pygments_lexer": "ipython2",
   "version": "2.7.12"
  }
 },
 "nbformat": 4,
 "nbformat_minor": 1
}
